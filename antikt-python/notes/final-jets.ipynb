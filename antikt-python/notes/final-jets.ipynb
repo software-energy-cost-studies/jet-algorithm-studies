{
 "cells": [
  {
   "cell_type": "code",
   "execution_count": null,
   "metadata": {},
   "outputs": [],
   "source": [
    "import pandas as pd\n",
    "import matplotlib.pyplot as plt\n",
    "import numpy as np"
   ]
  },
  {
   "cell_type": "code",
   "execution_count": null,
   "metadata": {},
   "outputs": [],
   "source": [
    "final_jets = pd.read_csv(\"../data/final-jets.txt\", sep=\" \")\n",
    "max_jets = np.max(final_jets[\"NFinaljets\"])\n",
    "print(max_jets)"
   ]
  },
  {
   "cell_type": "code",
   "execution_count": null,
   "metadata": {},
   "outputs": [],
   "source": [
    "fig, ax = plt.subplots(figsize=(8,6))\n",
    "ax.hist(final_jets, bins=np.arange(max_jets))\n",
    "ax.set_xlabel(\"AntiKt Final Jets, R=0.4\")\n",
    "ax.set_ylabel(\"Nevents\")\n",
    "ax.set_title(\"Final Jet Count ($p_t min = 0.5GeV$)\")\n",
    "ax.set_xticks(np.arange(0, max_jets, 5))\n",
    "ax.set_yticks(np.arange(0, 20, 5))\n",
    "plt.savefig(\"../data/final-jets.png\", dpi=150, bbox_inches='tight')"
   ]
  },
  {
   "cell_type": "code",
   "execution_count": null,
   "metadata": {},
   "outputs": [],
   "source": []
  }
 ],
 "metadata": {
  "kernelspec": {
   "display_name": "skl",
   "language": "python",
   "name": "python3"
  },
  "language_info": {
   "codemirror_mode": {
    "name": "ipython",
    "version": 3
   },
   "file_extension": ".py",
   "mimetype": "text/x-python",
   "name": "python",
   "nbconvert_exporter": "python",
   "pygments_lexer": "ipython3",
   "version": "3.10.6"
  }
 },
 "nbformat": 4,
 "nbformat_minor": 2
}
