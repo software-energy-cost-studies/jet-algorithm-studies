{
 "cells": [
  {
   "attachments": {},
   "cell_type": "markdown",
   "metadata": {},
   "source": [
    "# Profling Notes"
   ]
  },
  {
   "attachments": {},
   "cell_type": "markdown",
   "metadata": {},
   "source": [
    "## FastJet\n",
    "\n",
    "N.B. This is for Linux (WSL or other)\n",
    "\n",
    "Add the profiling flag, `-pg` to the Makefile for `chep-polyglot-jets`.\n",
    "\n",
    "Try to compile fastjet with the `-pg` option\n",
    "- I hacked this by running `./configure`, then editing the Makefiles to add `-pg`\n",
    "- Install this into `/tmp/fastjet` to avoid messing with the normal install in `/opt`\n",
    "\n",
    "Can now run the code, but I am only getting profiling information for the main application code - don't seem to get profiling out of FastJet - did I need also to add the flag for linking?\n",
    "\n",
    "Tried making a `-static` build, but the problem is that I don't have static libraries for HepMC3."
   ]
  },
  {
   "attachments": {},
   "cell_type": "markdown",
   "metadata": {},
   "source": [
    "## Atell\n",
    "\n",
    "Added the profiling code from Phlippe's application. This is easy, but... We don't have one package that we require, `StatProfilerHTML` and with no internet on the plane, can't get it!\n",
    "\n",
    "However, just commenting that out we do get an SVG output file, so we have something easily enough.\n",
    "\n",
    "Interesting results - much time spend in \"macro expansion in simdloop\". So it's clear that Julia is managing to SIMD the loops and this explains the `x4` speedup over the `N2Basic` algorithm from FastJet.\n",
    "- Of course, one could try to autovectorise the C++ code; or to use a vector class library to one's advantage, but the fact that Julia does this \"for free\" is really impressive.\n"
   ]
  },
  {
   "cell_type": "markdown",
   "metadata": {},
   "source": []
  }
 ],
 "metadata": {
  "language_info": {
   "name": "python"
  }
 },
 "nbformat": 4,
 "nbformat_minor": 2
}
